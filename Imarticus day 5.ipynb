{
 "cells": [
  {
   "cell_type": "code",
   "execution_count": null,
   "id": "835d6ba7",
   "metadata": {},
   "outputs": [],
   "source": [
    "Regression: predicting the y value based on x value\n",
    "\n",
    "Linear regression:     y = m x + c  (continues data)\n",
    "        \n",
    "Logistic regression:   y = 1 / (1 + e^(-(mx+c))) (discrete categorical data)\n",
    "    \n",
    "        example : book2.xlxs\n",
    "            \n",
    "\n",
    "accuracy score= (a[0]+a[3])/(sum of all elements in confusion matrix)\n",
    "\n",
    "error = (a[1]+a[2])/(sum of all elements in confusion matrix)actually \n",
    "\n",
    "\n",
    "\n",
    "              actual\n",
    "              +   -\n",
    "predected  +  25  5\n",
    "\n",
    "           -  5   20\n",
    "    \n",
    "precision = (actual true,predicted true)/(sum of remaining values) = (25/(5+5+20))\n",
    "\n",
    "recall= (actual true,predicted true)/(sum of actual + and predicted -)=  (25/(5+20))\n",
    "            \n",
    "\n",
    "          \n",
    "\n",
    "        "
   ]
  },
  {
   "cell_type": "code",
   "execution_count": null,
   "id": "f8eedc5f",
   "metadata": {},
   "outputs": [],
   "source": []
  }
 ],
 "metadata": {
  "kernelspec": {
   "display_name": "Python 3 (ipykernel)",
   "language": "python",
   "name": "python3"
  },
  "language_info": {
   "codemirror_mode": {
    "name": "ipython",
    "version": 3
   },
   "file_extension": ".py",
   "mimetype": "text/x-python",
   "name": "python",
   "nbconvert_exporter": "python",
   "pygments_lexer": "ipython3",
   "version": "3.9.7"
  }
 },
 "nbformat": 4,
 "nbformat_minor": 5
}
