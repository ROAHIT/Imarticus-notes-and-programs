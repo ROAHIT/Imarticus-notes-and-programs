{
 "cells": [
  {
   "cell_type": "code",
   "execution_count": null,
   "id": "00975b58",
   "metadata": {},
   "outputs": [],
   "source": [
    "ETL- Extract Transform and Load\n",
    "ELT- Extract Load and Tranform\n",
    "\n",
    "1)what are ETL/ELT tools? : Extract- Get the data base to store it in the data base warehouse \n",
    "                            Transform- cleaning the data before loading it into database warehouse \n",
    "                            Load- Loading the cleaned data base wwarehouse \n",
    "  ETL- loading after cleaning\n",
    "  ELT- loading without cleaning (as cleaning takes more time)\n",
    "    \n",
    "2)when do we use histogram? :A histogram is an approximate representation of the distribution of numerical data.\n",
    "    \n",
    "3)when do we use bar graph? :A bar chart or bar graph is a chart or graph that presents categorical data with rectangular \n",
    "                             bars with heights or lengths proportional to the values that they represent.\n",
    "        \n",
    "4)when do we use pie chart? :A pie chart is a circular statistical graphic, which is divided into slices to illustrate \n",
    "                             numerical proportion.\n",
    "        \n",
    "5)when do we use scatter plot/chart?:A scatter plot is a type of plot or mathematical diagram using Cartesian coordinates to \n",
    "                                display values for typically two variables for a set of data.\n",
    "\n",
    "\n",
    "\n"
   ]
  },
  {
   "cell_type": "code",
   "execution_count": 12,
   "id": "3c798670",
   "metadata": {},
   "outputs": [
    {
     "name": "stdout",
     "output_type": "stream",
     "text": [
      "E\n",
      "EFGHI"
     ]
    }
   ],
   "source": [
    "    \n",
    "ch=input()\n",
    "for i in range(5):\n",
    "    print(ch,end='')\n",
    "    ch=chr(ord(ch)+1)\n",
    "    "
   ]
  },
  {
   "cell_type": "code",
   "execution_count": null,
   "id": "712f700c",
   "metadata": {},
   "outputs": [],
   "source": [
    "Linear regression \n",
    "Regression \n",
    "ordinary least squares\n",
    "\n",
    "use google drive and co lab\n",
    "\n",
    "basics are in : scikit learn\n",
    "\n"
   ]
  }
 ],
 "metadata": {
  "kernelspec": {
   "display_name": "Python 3 (ipykernel)",
   "language": "python",
   "name": "python3"
  },
  "language_info": {
   "codemirror_mode": {
    "name": "ipython",
    "version": 3
   },
   "file_extension": ".py",
   "mimetype": "text/x-python",
   "name": "python",
   "nbconvert_exporter": "python",
   "pygments_lexer": "ipython3",
   "version": "3.9.7"
  }
 },
 "nbformat": 4,
 "nbformat_minor": 5
}
