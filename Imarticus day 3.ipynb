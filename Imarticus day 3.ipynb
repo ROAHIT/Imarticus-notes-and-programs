{
 "cells": [
  {
   "cell_type": "code",
   "execution_count": null,
   "id": "e2d75af7",
   "metadata": {},
   "outputs": [],
   "source": [
    "VIF-Variance Incident Factor\n",
    "\n",
    "Multi co-linearity\n",
    "\n",
    "if the data is non-linear- hetero scadasticity(we cannot use linear regression so we use non-linear techniques)\n",
    "\n",
    "Kaggle.com(remote database for data analysis)"
   ]
  }
 ],
 "metadata": {
  "kernelspec": {
   "display_name": "Python 3 (ipykernel)",
   "language": "python",
   "name": "python3"
  },
  "language_info": {
   "codemirror_mode": {
    "name": "ipython",
    "version": 3
   },
   "file_extension": ".py",
   "mimetype": "text/x-python",
   "name": "python",
   "nbconvert_exporter": "python",
   "pygments_lexer": "ipython3",
   "version": "3.9.7"
  }
 },
 "nbformat": 4,
 "nbformat_minor": 5
}
