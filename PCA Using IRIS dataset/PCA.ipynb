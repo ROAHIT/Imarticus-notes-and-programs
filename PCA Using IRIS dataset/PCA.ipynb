{
  "nbformat": 4,
  "nbformat_minor": 0,
  "metadata": {
    "colab": {
      "name": "Imarticus day 8.1(PCA).ipynb",
      "provenance": [],
      "collapsed_sections": []
    },
    "kernelspec": {
      "name": "python3",
      "display_name": "Python 3"
    },
    "language_info": {
      "name": "python"
    }
  },
  "cells": [
    {
      "cell_type": "code",
      "execution_count": null,
      "metadata": {
        "id": "umqsEGIVSCSV"
      },
      "outputs": [],
      "source": [
        "# PCA - Principal Compound Analysis\n",
        "\n",
        "import sklearn\n",
        "from sklearn.datasets import load_iris"
      ]
    },
    {
      "cell_type": "code",
      "source": [
        "iris=load_iris()\n",
        "x=iris.data\n",
        "y=iris.target"
      ],
      "metadata": {
        "id": "N23jWj9USUpi"
      },
      "execution_count": null,
      "outputs": []
    },
    {
      "cell_type": "code",
      "source": [
        "from sklearn.model_selection import train_test_split\n",
        "xtrain,xtest,ytrain,ytest=train_test_split(x,y,train_size=0.60,test_size=0.40,random_state=47)\n",
        "\n",
        "xtrain.shape,xtest.shape,ytrain.shape,ytest.shape\n"
      ],
      "metadata": {
        "colab": {
          "base_uri": "https://localhost:8080/"
        },
        "id": "WVM2Bj4USjdx",
        "outputId": "7b72c45d-b26e-4c8a-8a91-b5cf6bea3b2c"
      },
      "execution_count": null,
      "outputs": [
        {
          "output_type": "execute_result",
          "data": {
            "text/plain": [
              "((90, 4), (60, 4), (90,), (60,))"
            ]
          },
          "metadata": {},
          "execution_count": 3
        }
      ]
    },
    {
      "cell_type": "code",
      "source": [
        "# classification\n",
        "\n",
        "from sklearn.linear_model import LogisticRegression\n",
        "\n",
        "model=LogisticRegression()\n"
      ],
      "metadata": {
        "id": "0LURHfOyTKe9"
      },
      "execution_count": null,
      "outputs": []
    },
    {
      "cell_type": "code",
      "source": [
        "model.fit(xtrain,ytrain)\n"
      ],
      "metadata": {
        "colab": {
          "base_uri": "https://localhost:8080/"
        },
        "id": "wGSoEAAHTXxD",
        "outputId": "524a5df2-de87-4376-c690-096612a2413f"
      },
      "execution_count": null,
      "outputs": [
        {
          "output_type": "execute_result",
          "data": {
            "text/plain": [
              "LogisticRegression()"
            ]
          },
          "metadata": {},
          "execution_count": 5
        }
      ]
    },
    {
      "cell_type": "code",
      "source": [
        "predicted_y=model.predict(xtest)\n",
        "\n",
        "predicted_y"
      ],
      "metadata": {
        "colab": {
          "base_uri": "https://localhost:8080/"
        },
        "id": "qXToGOqqTp23",
        "outputId": "4478f439-c284-49b6-9ac6-df339c467e7a"
      },
      "execution_count": null,
      "outputs": [
        {
          "output_type": "execute_result",
          "data": {
            "text/plain": [
              "array([0, 0, 1, 0, 0, 2, 1, 2, 1, 0, 2, 0, 1, 2, 2, 2, 1, 0, 0, 0, 2, 1,\n",
              "       2, 1, 2, 2, 1, 2, 0, 0, 2, 1, 2, 0, 1, 0, 0, 0, 2, 0, 1, 0, 2, 0,\n",
              "       2, 0, 2, 0, 2, 2, 0, 1, 2, 1, 0, 0, 1, 2, 2, 0])"
            ]
          },
          "metadata": {},
          "execution_count": 6
        }
      ]
    },
    {
      "cell_type": "code",
      "source": [
        "#to measure the accuracy of model\n",
        "from sklearn.metrics import accuracy_score,confusion_matrix,classification_report\n",
        "accuracy_score(ytest,predicted_y)"
      ],
      "metadata": {
        "colab": {
          "base_uri": "https://localhost:8080/"
        },
        "id": "rVvKlws0T3tb",
        "outputId": "9c6c5234-4ef7-4397-e373-0f635d8be99f"
      },
      "execution_count": null,
      "outputs": [
        {
          "output_type": "execute_result",
          "data": {
            "text/plain": [
              "0.9666666666666667"
            ]
          },
          "metadata": {},
          "execution_count": 7
        }
      ]
    },
    {
      "cell_type": "code",
      "source": [
        "#making confusion matrix\n",
        "confusion_matrix(ytest,predicted_y)"
      ],
      "metadata": {
        "colab": {
          "base_uri": "https://localhost:8080/"
        },
        "id": "tWHK-_u0UKRG",
        "outputId": "ef59f564-4f68-4260-ab49-ecc6308c482a"
      },
      "execution_count": null,
      "outputs": [
        {
          "output_type": "execute_result",
          "data": {
            "text/plain": [
              "array([[24,  0,  0],\n",
              "       [ 0, 12,  0],\n",
              "       [ 0,  2, 22]])"
            ]
          },
          "metadata": {},
          "execution_count": 8
        }
      ]
    },
    {
      "cell_type": "code",
      "source": [
        "#classification report\n",
        "z=classification_report(ytest,predicted_y)\n",
        "print(z) "
      ],
      "metadata": {
        "colab": {
          "base_uri": "https://localhost:8080/"
        },
        "id": "pPMm-vFlUWCM",
        "outputId": "aded4cd8-f0c9-4b2c-859a-4c3bb8cbcc85"
      },
      "execution_count": null,
      "outputs": [
        {
          "output_type": "stream",
          "name": "stdout",
          "text": [
            "              precision    recall  f1-score   support\n",
            "\n",
            "           0       1.00      1.00      1.00        24\n",
            "           1       0.86      1.00      0.92        12\n",
            "           2       1.00      0.92      0.96        24\n",
            "\n",
            "    accuracy                           0.97        60\n",
            "   macro avg       0.95      0.97      0.96        60\n",
            "weighted avg       0.97      0.97      0.97        60\n",
            "\n"
          ]
        }
      ]
    },
    {
      "cell_type": "code",
      "source": [
        "#PCA\n",
        "\n",
        "from sklearn.decomposition import PCA\n",
        "\n",
        "pca=PCA(n_components=0.95)"
      ],
      "metadata": {
        "id": "Twk2ZEHbUgtY"
      },
      "execution_count": null,
      "outputs": []
    },
    {
      "cell_type": "code",
      "source": [
        "pca.fit(xtrain)"
      ],
      "metadata": {
        "colab": {
          "base_uri": "https://localhost:8080/"
        },
        "id": "6nPIIJIfUx-B",
        "outputId": "61c01db1-9561-4eab-ef0e-b47c8d935314"
      },
      "execution_count": null,
      "outputs": [
        {
          "output_type": "execute_result",
          "data": {
            "text/plain": [
              "PCA(n_components=0.95)"
            ]
          },
          "metadata": {},
          "execution_count": 14
        }
      ]
    },
    {
      "cell_type": "code",
      "source": [
        "xtrain_transformed=pca.transform(xtrain)\n",
        "\n",
        "print(xtrain_transformed.shape)"
      ],
      "metadata": {
        "colab": {
          "base_uri": "https://localhost:8080/"
        },
        "id": "BWKQrtFHVjwM",
        "outputId": "b27f94cb-31d8-4d99-ee51-aa96982173ad"
      },
      "execution_count": null,
      "outputs": [
        {
          "output_type": "stream",
          "name": "stdout",
          "text": [
            "(90, 2)\n"
          ]
        }
      ]
    },
    {
      "cell_type": "code",
      "source": [
        "xtest_transformed=pca.transform(xtest)\n",
        "\n",
        "print(xtest_transformed.shape)"
      ],
      "metadata": {
        "colab": {
          "base_uri": "https://localhost:8080/"
        },
        "id": "to5IRR5XWWTh",
        "outputId": "eaa099cd-f6c8-47a6-c002-2ff74f6558a6"
      },
      "execution_count": null,
      "outputs": [
        {
          "output_type": "stream",
          "name": "stdout",
          "text": [
            "(60, 2)\n"
          ]
        }
      ]
    },
    {
      "cell_type": "code",
      "source": [
        "new_model=LogisticRegression(penalty='l1',solver='liblinear')\n"
      ],
      "metadata": {
        "id": "Rb1gNuXOXIHs"
      },
      "execution_count": null,
      "outputs": []
    },
    {
      "cell_type": "code",
      "source": [
        "\n",
        "new_model.fit(xtrain_transformed,ytrain)\n"
      ],
      "metadata": {
        "colab": {
          "base_uri": "https://localhost:8080/"
        },
        "id": "OUsnmlqXX3FW",
        "outputId": "3d626143-0f88-4f71-ef8a-f436d08426a5"
      },
      "execution_count": null,
      "outputs": [
        {
          "output_type": "execute_result",
          "data": {
            "text/plain": [
              "LogisticRegression(penalty='l1', solver='liblinear')"
            ]
          },
          "metadata": {},
          "execution_count": 22
        }
      ]
    },
    {
      "cell_type": "code",
      "source": [
        "\n",
        "new_predicition=new_model.predict(xtest_transformed)"
      ],
      "metadata": {
        "id": "8AfKYKvuX_vY"
      },
      "execution_count": null,
      "outputs": []
    },
    {
      "cell_type": "code",
      "source": [
        "ytest,predicted_y,new_predicition"
      ],
      "metadata": {
        "colab": {
          "base_uri": "https://localhost:8080/"
        },
        "id": "KParbgJSYDTg",
        "outputId": "b7be42a6-5df4-44fd-b759-a4a914c38275"
      },
      "execution_count": null,
      "outputs": [
        {
          "output_type": "execute_result",
          "data": {
            "text/plain": [
              "(array([0, 0, 1, 0, 0, 2, 1, 2, 1, 0, 2, 0, 1, 2, 2, 2, 1, 0, 0, 0, 2, 1,\n",
              "        2, 2, 2, 2, 1, 2, 0, 0, 2, 1, 2, 0, 2, 0, 0, 0, 2, 0, 1, 0, 2, 0,\n",
              "        2, 0, 2, 0, 2, 2, 0, 1, 2, 1, 0, 0, 1, 2, 2, 0]),\n",
              " array([0, 0, 1, 0, 0, 2, 1, 2, 1, 0, 2, 0, 1, 2, 2, 2, 1, 0, 0, 0, 2, 1,\n",
              "        2, 1, 2, 2, 1, 2, 0, 0, 2, 1, 2, 0, 1, 0, 0, 0, 2, 0, 1, 0, 2, 0,\n",
              "        2, 0, 2, 0, 2, 2, 0, 1, 2, 1, 0, 0, 1, 2, 2, 0]),\n",
              " array([0, 0, 1, 0, 0, 2, 1, 2, 1, 0, 2, 0, 1, 2, 1, 2, 1, 0, 0, 0, 2, 1,\n",
              "        1, 2, 2, 2, 1, 2, 0, 0, 2, 1, 2, 0, 1, 0, 0, 0, 2, 0, 1, 0, 2, 0,\n",
              "        2, 0, 2, 0, 2, 2, 0, 1, 2, 1, 0, 0, 1, 2, 2, 0]))"
            ]
          },
          "metadata": {},
          "execution_count": 24
        }
      ]
    },
    {
      "cell_type": "code",
      "source": [
        "# accuracy \n",
        "\n",
        "from sklearn.metrics import accuracy_score\n",
        "\n",
        "new_acc=accuracy_score(new_predicition,ytest)"
      ],
      "metadata": {
        "id": "97PyS0lsZG6x"
      },
      "execution_count": null,
      "outputs": []
    },
    {
      "cell_type": "code",
      "source": [
        "new_acc"
      ],
      "metadata": {
        "colab": {
          "base_uri": "https://localhost:8080/"
        },
        "id": "fleVF567ZwDl",
        "outputId": "e73d0520-e7ae-47d7-8e2f-1c3915130b09"
      },
      "execution_count": null,
      "outputs": [
        {
          "output_type": "execute_result",
          "data": {
            "text/plain": [
              "0.95"
            ]
          },
          "metadata": {},
          "execution_count": 26
        }
      ]
    }
  ]
}