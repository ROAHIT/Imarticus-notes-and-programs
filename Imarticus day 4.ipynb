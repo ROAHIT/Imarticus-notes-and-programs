{
 "cells": [
  {
   "cell_type": "code",
   "execution_count": null,
   "id": "6ed19ac5",
   "metadata": {},
   "outputs": [],
   "source": [
    "spark - open source software\n",
    "\n",
    "if the degree is less than 1 then it is linear regression \n",
    "\n",
    "if the degree is more than 1 then it is non-linear regression\n",
    "\n",
    "RMSE - Root Mean Square Error (edited value - actual value)\n",
    "\n",
    "MAE - Mean Average Error\n",
    "\n",
    "how can we measure performance of regression ? : using R square and RMSE values\n",
    "    \n",
    "True positive- actual value is positive and predicted is also positive\n",
    "\n",
    "False positives- actual value is negative and predicted is positive\n",
    "\n",
    "True negative- actual value is  negative and predicted is negative \n",
    "\n",
    "False negative- actual value is positive and predicted is negative\n",
    "\n"
   ]
  }
 ],
 "metadata": {
  "kernelspec": {
   "display_name": "Python 3 (ipykernel)",
   "language": "python",
   "name": "python3"
  },
  "language_info": {
   "codemirror_mode": {
    "name": "ipython",
    "version": 3
   },
   "file_extension": ".py",
   "mimetype": "text/x-python",
   "name": "python",
   "nbconvert_exporter": "python",
   "pygments_lexer": "ipython3",
   "version": "3.9.7"
  }
 },
 "nbformat": 4,
 "nbformat_minor": 5
}
